{
 "cells": [
  {
   "cell_type": "code",
   "execution_count": 1,
   "id": "fe2fa891",
   "metadata": {},
   "outputs": [
    {
     "data": {
      "text/plain": [
       "'/Users/kpathak/opt/anaconda3/envs/mamlTesting/lib/python3.8/site-packages/pyspark'"
      ]
     },
     "execution_count": 1,
     "metadata": {},
     "output_type": "execute_result"
    }
   ],
   "source": [
    "#initializing pyspark\n",
    "import findspark\n",
    "findspark.init()\n",
    "findspark.find()\n",
    "import pyspark\n",
    "findspark.find()"
   ]
  },
  {
   "cell_type": "code",
   "execution_count": 4,
   "id": "93ee9b43",
   "metadata": {},
   "outputs": [],
   "source": [
    "#https://naomi-fridman.medium.com/install-pyspark-to-run-on-jupyter-notebook-on-windows-4ec2009de21f\n",
    "#https://github.com/spark-examples/pyspark-examples/\n",
    "#https://www.datacamp.com/tutorial/pyspark-tutorial-getting-started-with-pyspark\n",
    "#https://www.guru99.com/pyspark-tutorial.html\n",
    "#https://sparkbyexamples.com/pyspark/install-pyspark-in-anaconda-jupyter-notebook/\n",
    "#follow conda install for pyspark and findaprk\n",
    "#https://www.datacamp.com/tutorial/pyspark-tutorial-getting-started-with-pyspark"
   ]
  },
  {
   "cell_type": "code",
   "execution_count": 2,
   "id": "9beaa37a",
   "metadata": {},
   "outputs": [
    {
     "name": "stderr",
     "output_type": "stream",
     "text": [
      "WARNING: An illegal reflective access operation has occurred\n",
      "WARNING: Illegal reflective access by org.apache.spark.unsafe.Platform (file:/Users/kpathak/opt/anaconda3/envs/mamlTesting/lib/python3.8/site-packages/pyspark/jars/spark-unsafe_2.12-3.1.2.jar) to constructor java.nio.DirectByteBuffer(long,int)\n",
      "WARNING: Please consider reporting this to the maintainers of org.apache.spark.unsafe.Platform\n",
      "WARNING: Use --illegal-access=warn to enable warnings of further illegal reflective access operations\n",
      "WARNING: All illegal access operations will be denied in a future release\n",
      "22/10/27 18:08:59 WARN NativeCodeLoader: Unable to load native-hadoop library for your platform... using builtin-java classes where applicable\n",
      "Using Spark's default log4j profile: org/apache/spark/log4j-defaults.properties\n",
      "Setting default log level to \"WARN\".\n",
      "To adjust logging level use sc.setLogLevel(newLevel). For SparkR, use setLogLevel(newLevel).\n",
      "22/10/27 18:09:00 WARN Utils: Service 'SparkUI' could not bind on port 4040. Attempting port 4041.\n",
      "22/10/27 18:09:00 WARN Utils: Service 'SparkUI' could not bind on port 4041. Attempting port 4042.\n"
     ]
    },
    {
     "name": "stdout",
     "output_type": "stream",
     "text": [
      "<pyspark.sql.session.SparkSession object at 0x7fde058f07f0>\n"
     ]
    }
   ],
   "source": [
    "from pyspark.sql import SparkSession\n",
    "sc =  SparkSession.builder \\\n",
    "    .master(\"local[1]\") \\\n",
    "    .appName(\"OnlineReatilsData\") \\\n",
    "    .getOrCreate()\n",
    "spark= sc\n",
    "print(spark)"
   ]
  },
  {
   "cell_type": "code",
   "execution_count": 3,
   "id": "ed68e589",
   "metadata": {},
   "outputs": [
    {
     "data": {
      "text/html": [
       "\n",
       "            <div>\n",
       "                <p><b>SparkSession - in-memory</b></p>\n",
       "                \n",
       "        <div>\n",
       "            <p><b>SparkContext</b></p>\n",
       "\n",
       "            <p><a href=\"http://192.168.0.101:4042\">Spark UI</a></p>\n",
       "\n",
       "            <dl>\n",
       "              <dt>Version</dt>\n",
       "                <dd><code>v3.1.2</code></dd>\n",
       "              <dt>Master</dt>\n",
       "                <dd><code>local[1]</code></dd>\n",
       "              <dt>AppName</dt>\n",
       "                <dd><code>OnlineReatilsData</code></dd>\n",
       "            </dl>\n",
       "        </div>\n",
       "        \n",
       "            </div>\n",
       "        "
      ],
      "text/plain": [
       "<pyspark.sql.session.SparkSession at 0x7fde058f07f0>"
      ]
     },
     "execution_count": 3,
     "metadata": {},
     "output_type": "execute_result"
    }
   ],
   "source": [
    "spark"
   ]
  },
  {
   "cell_type": "code",
   "execution_count": 133,
   "id": "be709763",
   "metadata": {},
   "outputs": [],
   "source": [
    "# spark.stop()"
   ]
  },
  {
   "cell_type": "code",
   "execution_count": 4,
   "id": "e2ccaf31",
   "metadata": {},
   "outputs": [],
   "source": [
    "#reading csv data\n",
    "#data source - https://archive.ics.uci.edu/ml/machine-learning-databases/00352/\n",
    "df = spark.read.csv('/Users/kpathak/Downloads/Online Retail.csv',header=True,escape=\"\\\"\")"
   ]
  },
  {
   "cell_type": "code",
   "execution_count": 5,
   "id": "5ab5810a",
   "metadata": {},
   "outputs": [
    {
     "name": "stdout",
     "output_type": "stream",
     "text": [
      "root\n",
      " |-- InvoiceNo: string (nullable = true)\n",
      " |-- StockCode: string (nullable = true)\n",
      " |-- Description: string (nullable = true)\n",
      " |-- Quantity: string (nullable = true)\n",
      " |-- InvoiceDate: string (nullable = true)\n",
      " |-- UnitPrice: string (nullable = true)\n",
      " |-- CustomerID: string (nullable = true)\n",
      " |-- Country: string (nullable = true)\n",
      "\n"
     ]
    }
   ],
   "source": [
    "df.printSchema()"
   ]
  },
  {
   "cell_type": "code",
   "execution_count": 6,
   "id": "55b58e92",
   "metadata": {},
   "outputs": [
    {
     "name": "stderr",
     "output_type": "stream",
     "text": [
      "\r",
      "[Stage 1:>                                                          (0 + 1) / 1]\r",
      "\r",
      "                                                                                \r"
     ]
    },
    {
     "data": {
      "text/plain": [
       "541909"
      ]
     },
     "execution_count": 6,
     "metadata": {},
     "output_type": "execute_result"
    }
   ],
   "source": [
    "df.count()"
   ]
  },
  {
   "cell_type": "code",
   "execution_count": 7,
   "id": "f4bb9c12",
   "metadata": {},
   "outputs": [
    {
     "name": "stdout",
     "output_type": "stream",
     "text": [
      "+---------+---------+-----------------------------------+--------+-------------+---------+----------+--------------+\n",
      "|InvoiceNo|StockCode|Description                        |Quantity|InvoiceDate  |UnitPrice|CustomerID|Country       |\n",
      "+---------+---------+-----------------------------------+--------+-------------+---------+----------+--------------+\n",
      "|536365   |85123A   |WHITE HANGING HEART T-LIGHT HOLDER |6       |01/12/10 8:26|2.55     |17850     |United Kingdom|\n",
      "|536365   |71053    |WHITE METAL LANTERN                |6       |01/12/10 8:26|3.39     |17850     |United Kingdom|\n",
      "|536365   |84406B   |CREAM CUPID HEARTS COAT HANGER     |8       |01/12/10 8:26|2.75     |17850     |United Kingdom|\n",
      "|536365   |84029G   |KNITTED UNION FLAG HOT WATER BOTTLE|6       |01/12/10 8:26|3.39     |17850     |United Kingdom|\n",
      "|536365   |84029E   |RED WOOLLY HOTTIE WHITE HEART.     |6       |01/12/10 8:26|3.39     |17850     |United Kingdom|\n",
      "+---------+---------+-----------------------------------+--------+-------------+---------+----------+--------------+\n",
      "only showing top 5 rows\n",
      "\n"
     ]
    }
   ],
   "source": [
    "df.show(5, truncate = False)"
   ]
  },
  {
   "cell_type": "code",
   "execution_count": 8,
   "id": "5811c405",
   "metadata": {},
   "outputs": [
    {
     "name": "stderr",
     "output_type": "stream",
     "text": [
      "                                                                                \r"
     ]
    },
    {
     "data": {
      "text/plain": [
       "4373"
      ]
     },
     "execution_count": 8,
     "metadata": {},
     "output_type": "execute_result"
    }
   ],
   "source": [
    "#select column\n",
    "df.select('CustomerID').distinct().count()"
   ]
  },
  {
   "cell_type": "code",
   "execution_count": 9,
   "id": "c8f4e976",
   "metadata": {},
   "outputs": [
    {
     "name": "stderr",
     "output_type": "stream",
     "text": [
      "                                                                                \r"
     ]
    },
    {
     "name": "stdout",
     "output_type": "stream",
     "text": [
      "+------------------+-------------+\n",
      "|           Country|country_count|\n",
      "+------------------+-------------+\n",
      "|            Sweden|            8|\n",
      "|         Singapore|            1|\n",
      "|           Germany|           95|\n",
      "|               RSA|            1|\n",
      "|            France|           87|\n",
      "|            Greece|            4|\n",
      "|European Community|            1|\n",
      "|           Belgium|           25|\n",
      "|           Finland|           12|\n",
      "|             Malta|            2|\n",
      "|       Unspecified|            4|\n",
      "|             Italy|           15|\n",
      "|              EIRE|            3|\n",
      "|         Lithuania|            1|\n",
      "|            Norway|           10|\n",
      "|             Spain|           31|\n",
      "|           Denmark|            9|\n",
      "|         Hong Kong|            0|\n",
      "|            Israel|            4|\n",
      "|           Iceland|            1|\n",
      "+------------------+-------------+\n",
      "only showing top 20 rows\n",
      "\n"
     ]
    }
   ],
   "source": [
    "#importing sql type functonalities like groupby\n",
    "from pyspark.sql.functions import *\n",
    "from pyspark.sql.types import *\n",
    "df.groupBy('Country').agg(countDistinct('CustomerID').alias('country_count')).show()"
   ]
  },
  {
   "cell_type": "code",
   "execution_count": 10,
   "id": "0b5a9a3f",
   "metadata": {},
   "outputs": [
    {
     "name": "stderr",
     "output_type": "stream",
     "text": [
      "[Stage 21:===================================>                  (133 + 2) / 200]\r"
     ]
    },
    {
     "name": "stdout",
     "output_type": "stream",
     "text": [
      "+---------------+-------------+\n",
      "|        Country|country_count|\n",
      "+---------------+-------------+\n",
      "| United Kingdom|         3950|\n",
      "|        Germany|           95|\n",
      "|         France|           87|\n",
      "|          Spain|           31|\n",
      "|        Belgium|           25|\n",
      "|    Switzerland|           21|\n",
      "|       Portugal|           19|\n",
      "|          Italy|           15|\n",
      "|        Finland|           12|\n",
      "|        Austria|           11|\n",
      "|         Norway|           10|\n",
      "|      Australia|            9|\n",
      "|        Denmark|            9|\n",
      "|Channel Islands|            9|\n",
      "|    Netherlands|            9|\n",
      "|          Japan|            8|\n",
      "|         Sweden|            8|\n",
      "|         Cyprus|            8|\n",
      "|         Poland|            6|\n",
      "|    Unspecified|            4|\n",
      "+---------------+-------------+\n",
      "only showing top 20 rows\n",
      "\n"
     ]
    },
    {
     "name": "stderr",
     "output_type": "stream",
     "text": [
      "\r",
      "[Stage 21:===================================================>  (192 + 1) / 200]\r",
      "\r",
      "                                                                                \r"
     ]
    }
   ],
   "source": [
    "df.groupBy('Country').agg(countDistinct('CustomerID').alias('country_count')).orderBy(desc('country_count')).show()"
   ]
  },
  {
   "cell_type": "code",
   "execution_count": 12,
   "id": "d75ff11a",
   "metadata": {},
   "outputs": [
    {
     "name": "stderr",
     "output_type": "stream",
     "text": [
      "                                                                                \r"
     ]
    },
    {
     "name": "stdout",
     "output_type": "stream",
     "text": [
      "+-------------------+\n",
      "|          max(date)|\n",
      "+-------------------+\n",
      "|2031-10-11 17:19:00|\n",
      "+-------------------+\n",
      "\n"
     ]
    },
    {
     "name": "stderr",
     "output_type": "stream",
     "text": [
      "\r",
      "[Stage 26:>                                                         (0 + 1) / 1]\r"
     ]
    },
    {
     "name": "stdout",
     "output_type": "stream",
     "text": [
      "+-------------------+\n",
      "|          min(date)|\n",
      "+-------------------+\n",
      "|2001-02-11 08:23:00|\n",
      "+-------------------+\n",
      "\n"
     ]
    },
    {
     "name": "stderr",
     "output_type": "stream",
     "text": [
      "\r",
      "                                                                                \r"
     ]
    },
    {
     "data": {
      "text/plain": [
       "(None, None)"
      ]
     },
     "execution_count": 12,
     "metadata": {},
     "output_type": "execute_result"
    }
   ],
   "source": [
    "#time based column parsing\n",
    "spark.sql(\"set spark.sql.legacy.timeParserPolicy=LEGACY\")\n",
    "df = df.withColumn('date',to_timestamp(\"InvoiceDate\", 'yy/MM/dd HH:mm'))\n",
    "df.select(max(\"date\")).show(), df.select(min(\"date\")).show()"
   ]
  },
  {
   "cell_type": "code",
   "execution_count": 16,
   "id": "31e10e5f",
   "metadata": {},
   "outputs": [],
   "source": [
    "#RFM Analysis\n",
    "#recency\n",
    "df = df.withColumn(\"from_date\", lit(\"12/1/10 08:26\"))\n",
    "df = df.withColumn('from_date',to_timestamp(\"from_date\", 'yy/MM/dd HH:mm'))\n",
    "\n",
    "df2=df.withColumn('from_date',to_timestamp(col('from_date'))).withColumn('recency',col(\"date\").cast(\"long\") - col('from_date').cast(\"long\"))"
   ]
  },
  {
   "cell_type": "code",
   "execution_count": 17,
   "id": "076315ac",
   "metadata": {},
   "outputs": [
    {
     "name": "stderr",
     "output_type": "stream",
     "text": [
      "\r",
      "[Stage 36:>                                                         (0 + 1) / 1]\r"
     ]
    },
    {
     "name": "stdout",
     "output_type": "stream",
     "text": [
      "+----------+---------+---------+--------------------+--------+-------------+---------+----------+--------------+-------------------+-------------------+\n",
      "|   recency|InvoiceNo|StockCode|         Description|Quantity|  InvoiceDate|UnitPrice|CustomerID|       Country|               date|          from_date|\n",
      "+----------+---------+---------+--------------------+--------+-------------+---------+----------+--------------+-------------------+-------------------+\n",
      "|-318205980|   536384|    82484|WOOD BLACK BOARD ...|       3|01/12/10 9:53|     6.45|     18074|United Kingdom|2001-12-10 09:53:00|2012-01-10 08:26:00|\n",
      "|-318205980|   536384|    84755|COLOUR GLASS T-LI...|      48|01/12/10 9:53|     0.65|     18074|United Kingdom|2001-12-10 09:53:00|2012-01-10 08:26:00|\n",
      "|-318205980|   536384|    22464|HANGING METAL HEA...|      12|01/12/10 9:53|     1.65|     18074|United Kingdom|2001-12-10 09:53:00|2012-01-10 08:26:00|\n",
      "|-318205980|   536384|    21324|HANGING MEDINA LA...|       6|01/12/10 9:53|     2.95|     18074|United Kingdom|2001-12-10 09:53:00|2012-01-10 08:26:00|\n",
      "|-318205980|   536384|    22457|NATURAL SLATE HEA...|      12|01/12/10 9:53|     2.95|     18074|United Kingdom|2001-12-10 09:53:00|2012-01-10 08:26:00|\n",
      "+----------+---------+---------+--------------------+--------+-------------+---------+----------+--------------+-------------------+-------------------+\n",
      "only showing top 5 rows\n",
      "\n"
     ]
    },
    {
     "name": "stderr",
     "output_type": "stream",
     "text": [
      "\r",
      "                                                                                \r"
     ]
    }
   ],
   "source": [
    "#most recent purchase\n",
    "df2 = df2.join(df2.groupBy('CustomerID').agg(max('recency').alias('recency')),on='recency',how='leftsemi')\n",
    "df2.show(5)"
   ]
  },
  {
   "cell_type": "code",
   "execution_count": 18,
   "id": "4213aab7",
   "metadata": {},
   "outputs": [
    {
     "name": "stdout",
     "output_type": "stream",
     "text": [
      "root\n",
      " |-- recency: long (nullable = true)\n",
      " |-- InvoiceNo: string (nullable = true)\n",
      " |-- StockCode: string (nullable = true)\n",
      " |-- Description: string (nullable = true)\n",
      " |-- Quantity: string (nullable = true)\n",
      " |-- InvoiceDate: string (nullable = true)\n",
      " |-- UnitPrice: string (nullable = true)\n",
      " |-- CustomerID: string (nullable = true)\n",
      " |-- Country: string (nullable = true)\n",
      " |-- date: timestamp (nullable = true)\n",
      " |-- from_date: timestamp (nullable = true)\n",
      "\n"
     ]
    }
   ],
   "source": [
    "df2.printSchema()"
   ]
  },
  {
   "cell_type": "code",
   "execution_count": 19,
   "id": "d731d9bd",
   "metadata": {},
   "outputs": [
    {
     "name": "stderr",
     "output_type": "stream",
     "text": [
      "[Stage 41:>                                                         (0 + 1) / 1]\r"
     ]
    },
    {
     "name": "stdout",
     "output_type": "stream",
     "text": [
      "+----------+---------+\n",
      "|CustomerID|frequency|\n",
      "+----------+---------+\n",
      "|     15574|        1|\n",
      "|     17714|       10|\n",
      "|     14157|        1|\n",
      "|     16250|       10|\n",
      "|     13772|       36|\n",
      "|     13192|       33|\n",
      "|     17686|       18|\n",
      "|     16320|        9|\n",
      "|     15271|        9|\n",
      "|     13282|        8|\n",
      "|     13865|        6|\n",
      "|     15555|       68|\n",
      "|     14887|        6|\n",
      "|     17506|       16|\n",
      "|     17427|        2|\n",
      "|     12394|        6|\n",
      "|     16504|       86|\n",
      "|     15269|        2|\n",
      "|     12847|       91|\n",
      "|     15634|       15|\n",
      "+----------+---------+\n",
      "only showing top 20 rows\n",
      "\n"
     ]
    },
    {
     "name": "stderr",
     "output_type": "stream",
     "text": [
      "\r",
      "                                                                                \r"
     ]
    }
   ],
   "source": [
    "#Frequency\n",
    "df_freq = df2.groupBy('CustomerID').agg(count('InvoiceDate').alias('frequency'))\n",
    "df_freq.show()"
   ]
  },
  {
   "cell_type": "code",
   "execution_count": 20,
   "id": "33a69241",
   "metadata": {},
   "outputs": [
    {
     "name": "stderr",
     "output_type": "stream",
     "text": [
      "[Stage 45:>                                                         (0 + 1) / 1]\r"
     ]
    },
    {
     "name": "stdout",
     "output_type": "stream",
     "text": [
      "+----------+----------+---------+---------+--------------------+--------+-------------+---------+--------------+-------------------+-------------------+---------+\n",
      "|CustomerID|   recency|InvoiceNo|StockCode|         Description|Quantity|  InvoiceDate|UnitPrice|       Country|               date|          from_date|frequency|\n",
      "+----------+----------+---------+---------+--------------------+--------+-------------+---------+--------------+-------------------+-------------------+---------+\n",
      "|     18074|-318205980|   536384|    82484|WOOD BLACK BOARD ...|       3|01/12/10 9:53|     6.45|United Kingdom|2001-12-10 09:53:00|2012-01-10 08:26:00|       13|\n",
      "|     18074|-318205980|   536384|    84755|COLOUR GLASS T-LI...|      48|01/12/10 9:53|     0.65|United Kingdom|2001-12-10 09:53:00|2012-01-10 08:26:00|       13|\n",
      "|     18074|-318205980|   536384|    22464|HANGING METAL HEA...|      12|01/12/10 9:53|     1.65|United Kingdom|2001-12-10 09:53:00|2012-01-10 08:26:00|       13|\n",
      "|     18074|-318205980|   536384|    21324|HANGING MEDINA LA...|       6|01/12/10 9:53|     2.95|United Kingdom|2001-12-10 09:53:00|2012-01-10 08:26:00|       13|\n",
      "|     18074|-318205980|   536384|    22457|NATURAL SLATE HEA...|      12|01/12/10 9:53|     2.95|United Kingdom|2001-12-10 09:53:00|2012-01-10 08:26:00|       13|\n",
      "+----------+----------+---------+---------+--------------------+--------+-------------+---------+--------------+-------------------+-------------------+---------+\n",
      "only showing top 5 rows\n",
      "\n"
     ]
    },
    {
     "name": "stderr",
     "output_type": "stream",
     "text": [
      "\r",
      "[Stage 46:==================================================>   (186 + 1) / 200]\r",
      "\r",
      "                                                                                \r"
     ]
    }
   ],
   "source": [
    "#merging the two tables\n",
    "df3 = df2.join(df_freq,on='CustomerID',how='inner')\n",
    "df3.show(5)"
   ]
  },
  {
   "cell_type": "code",
   "execution_count": 22,
   "id": "bfc15382",
   "metadata": {},
   "outputs": [
    {
     "name": "stderr",
     "output_type": "stream",
     "text": [
      "[Stage 52:>                                                         (0 + 1) / 1]\r"
     ]
    },
    {
     "name": "stdout",
     "output_type": "stream",
     "text": [
      "+----------+------------------+\n",
      "|CustomerID|    monetary_value|\n",
      "+----------+------------------+\n",
      "|     15574|              3.75|\n",
      "|     17714|             153.0|\n",
      "|     14157|            -32.45|\n",
      "|     16250|             163.3|\n",
      "|     13772|228.42000000000004|\n",
      "+----------+------------------+\n",
      "only showing top 5 rows\n",
      "\n"
     ]
    },
    {
     "name": "stderr",
     "output_type": "stream",
     "text": [
      "\r",
      "                                                                                \r"
     ]
    }
   ],
   "source": [
    "#total amount spent by the customer\n",
    "m_val = df3.withColumn('TotalAmount',col(\"Quantity\") * col(\"UnitPrice\"))\n",
    "m_val = m_val.groupBy('CustomerID').agg(sum('TotalAmount').alias('monetary_value'))\n",
    "m_val.show(5)"
   ]
  },
  {
   "cell_type": "code",
   "execution_count": 24,
   "id": "ab7d8005",
   "metadata": {},
   "outputs": [
    {
     "name": "stderr",
     "output_type": "stream",
     "text": [
      "[Stage 70:>                                                         (0 + 1) / 1]\r"
     ]
    },
    {
     "name": "stdout",
     "output_type": "stream",
     "text": [
      "+----------+-----------------+----------+---------+---------+--------------------+--------+-------------+---------+-------+-------------------+-------------------+---------+\n",
      "|CustomerID|   monetary_value|   recency|InvoiceNo|StockCode|         Description|Quantity|  InvoiceDate|UnitPrice|Country|               date|          from_date|frequency|\n",
      "+----------+-----------------+----------+---------+---------+--------------------+--------+-------------+---------+-------+-------------------+-------------------+---------+\n",
      "|     12394|891.4000000000001|-134093880|   569997|    23245|SET OF 3 REGENCY ...|      32|07/10/11 8:08|     4.15|Denmark|2007-10-11 08:08:00|2012-01-10 08:26:00|        6|\n",
      "|     12394|891.4000000000001|-134093880|   569997|    23295|SET OF 12 MINI LO...|     256|07/10/11 8:08|     0.72|Denmark|2007-10-11 08:08:00|2012-01-10 08:26:00|        6|\n",
      "|     12394|891.4000000000001|-134093880|   569997|    23296|SET OF 6 TEA TIME...|     256|07/10/11 8:08|     1.04|Denmark|2007-10-11 08:08:00|2012-01-10 08:26:00|        6|\n",
      "|     12394|891.4000000000001|-134093880|   569997|    23293|SET OF 12 FAIRY C...|      48|07/10/11 8:08|     0.83|Denmark|2007-10-11 08:08:00|2012-01-10 08:26:00|        6|\n",
      "|     12394|891.4000000000001|-134093880|   569997|    37495|FAIRY CAKE BIRTHD...|      36|07/10/11 8:08|     2.95|Denmark|2007-10-11 08:08:00|2012-01-10 08:26:00|        6|\n",
      "+----------+-----------------+----------+---------+---------+--------------------+--------+-------------+---------+-------+-------------------+-------------------+---------+\n",
      "only showing top 5 rows\n",
      "\n"
     ]
    },
    {
     "name": "stderr",
     "output_type": "stream",
     "text": [
      "\r",
      "                                                                                \r"
     ]
    }
   ],
   "source": [
    "#final dataframe for RFM\n",
    "finaldf = m_val.join(df3,on='CustomerID',how='inner')\n",
    "finaldf.show(5)"
   ]
  },
  {
   "cell_type": "code",
   "execution_count": 25,
   "id": "8cd33bf8",
   "metadata": {},
   "outputs": [
    {
     "name": "stderr",
     "output_type": "stream",
     "text": [
      "[Stage 79:>                                                         (0 + 1) / 1]\r"
     ]
    },
    {
     "name": "stdout",
     "output_type": "stream",
     "text": [
      "+----------+---------+------------------+----------+\n",
      "|   recency|frequency|    monetary_value|CustomerID|\n",
      "+----------+---------+------------------+----------+\n",
      "|-134093880|        6| 891.4000000000001|     12394|\n",
      "| 184222200|       91| 871.5399999999998|     12847|\n",
      "| 199866660|       33|464.32000000000005|     13192|\n",
      "| 581230260|        8|428.40000000000003|     13282|\n",
      "| 499763520|       20|118.24000000000001|     13610|\n",
      "+----------+---------+------------------+----------+\n",
      "only showing top 5 rows\n",
      "\n"
     ]
    },
    {
     "name": "stderr",
     "output_type": "stream",
     "text": [
      "\r",
      "                                                                                \r"
     ]
    }
   ],
   "source": [
    "#selecting only required columns\n",
    "finaldf = finaldf.select(['recency','frequency','monetary_value','CustomerID']).distinct()\n",
    "finaldf.show(5)"
   ]
  },
  {
   "cell_type": "code",
   "execution_count": 34,
   "id": "09cae4a8",
   "metadata": {},
   "outputs": [
    {
     "name": "stderr",
     "output_type": "stream",
     "text": [
      "[Stage 204:>                                                        (0 + 1) / 1]\r"
     ]
    },
    {
     "name": "stdout",
     "output_type": "stream",
     "text": [
      "+----------+---------+------------------+----------+--------------------+--------------------+\n",
      "|   recency|frequency|    monetary_value|CustomerID|            features|        standardized|\n",
      "+----------+---------+------------------+----------+--------------------+--------------------+\n",
      "|-134093880|        6| 891.4000000000001|     12394|[6.0,891.40000000...|[0.17795847439657...|\n",
      "| 184222200|       91| 871.5399999999998|     12847|[91.0,871.5399999...|[2.69903686168142...|\n",
      "| 199866660|       33|464.32000000000005|     13192|[33.0,464.3200000...|[0.97877160918117...|\n",
      "| 581230260|        8|428.40000000000003|     13282|[8.0,428.40000000...|[0.23727796586210...|\n",
      "| 499763520|       20|118.24000000000001|     13610|[20.0,118.2400000...|[0.59319491465525...|\n",
      "+----------+---------+------------------+----------+--------------------+--------------------+\n",
      "only showing top 5 rows\n",
      "\n"
     ]
    },
    {
     "name": "stderr",
     "output_type": "stream",
     "text": [
      "\r",
      "                                                                                \r"
     ]
    }
   ],
   "source": [
    "#Standardization\n",
    "from pyspark.ml.feature import VectorAssembler\n",
    "from pyspark.ml.feature import StandardScaler\n",
    "\n",
    "assemble=VectorAssembler(inputCols=['frequency','monetary_value'\n",
    "], outputCol='features')\n",
    "\n",
    "assembled_data=assemble.transform(finaldf)\n",
    "\n",
    "scale=StandardScaler(inputCol='features',outputCol='standardized')\n",
    "data_scale=scale.fit(assembled_data)\n",
    "data_scale_output=data_scale.transform(assembled_data)\n",
    "data_scale_output.show(5)\n"
   ]
  },
  {
   "cell_type": "code",
   "execution_count": 35,
   "id": "3a581f6a",
   "metadata": {},
   "outputs": [
    {
     "name": "stderr",
     "output_type": "stream",
     "text": [
      "[Stage 213:>                                                        (0 + 1) / 1]\r"
     ]
    },
    {
     "name": "stdout",
     "output_type": "stream",
     "text": [
      "+----------------------------------------+\n",
      "|standardized                            |\n",
      "+----------------------------------------+\n",
      "|[0.17795847439657758,0.6563171694143287]|\n",
      "|[2.6990368616814266,0.641694711500296]  |\n",
      "+----------------------------------------+\n",
      "only showing top 2 rows\n",
      "\n"
     ]
    },
    {
     "name": "stderr",
     "output_type": "stream",
     "text": [
      "\r",
      "                                                                                \r"
     ]
    }
   ],
   "source": [
    "data_scale_output.select('standardized').show(2,truncate=False)"
   ]
  },
  {
   "cell_type": "code",
   "execution_count": 36,
   "id": "955145fa",
   "metadata": {},
   "outputs": [
    {
     "name": "stderr",
     "output_type": "stream",
     "text": [
      "[Stage 223:==================================================>  (192 + 1) / 200]\r"
     ]
    },
    {
     "name": "stdout",
     "output_type": "stream",
     "text": [
      "+---------+--------------+\n",
      "|frequency|monetary_value|\n",
      "+---------+--------------+\n",
      "|        0|             0|\n",
      "+---------+--------------+\n",
      "\n"
     ]
    },
    {
     "name": "stderr",
     "output_type": "stream",
     "text": [
      "\r",
      "                                                                                \r"
     ]
    }
   ],
   "source": [
    "#Find count for selected columns\n",
    "from pyspark.sql.functions import col,isnan,when,count\n",
    "df_Columns=['frequency','monetary_value']\n",
    "data_scale_output.select([count(when(isnan(c) | col(c).isNull(), c)).alias(c) for c in df_Columns]\n",
    "   ).show()"
   ]
  },
  {
   "cell_type": "code",
   "execution_count": 38,
   "id": "2fc0e52e",
   "metadata": {},
   "outputs": [
    {
     "name": "stderr",
     "output_type": "stream",
     "text": [
      "                                                                                \r"
     ]
    },
    {
     "data": {
      "text/plain": [
       "4806"
      ]
     },
     "execution_count": 38,
     "metadata": {},
     "output_type": "execute_result"
    }
   ],
   "source": [
    "data_scale_output.count()"
   ]
  },
  {
   "cell_type": "code",
   "execution_count": 54,
   "id": "042bc06c",
   "metadata": {},
   "outputs": [],
   "source": [
    "data_scale_output_sub=data_scale_output.limit(1000)"
   ]
  },
  {
   "cell_type": "code",
   "execution_count": 56,
   "id": "fa5795da",
   "metadata": {},
   "outputs": [
    {
     "name": "stderr",
     "output_type": "stream",
     "text": [
      "                                                                                \r"
     ]
    },
    {
     "data": {
      "text/plain": [
       "1000"
      ]
     },
     "execution_count": 56,
     "metadata": {},
     "output_type": "execute_result"
    }
   ],
   "source": [
    "data_scale_output_sub.count()"
   ]
  },
  {
   "cell_type": "code",
   "execution_count": 57,
   "id": "5d833d96",
   "metadata": {},
   "outputs": [
    {
     "name": "stderr",
     "output_type": "stream",
     "text": [
      "22/10/27 19:17:07 WARN BLAS: Failed to load implementation from: com.github.fommil.netlib.NativeSystemBLAS\n",
      "22/10/27 19:17:07 WARN BLAS: Failed to load implementation from: com.github.fommil.netlib.NativeRefBLAS\n",
      "[Stage 1244:================================================>   (186 + 1) / 200]\r"
     ]
    },
    {
     "name": "stdout",
     "output_type": "stream",
     "text": [
      "CPU times: user 404 ms, sys: 145 ms, total: 549 ms\n",
      "Wall time: 3min 31s\n"
     ]
    },
    {
     "name": "stderr",
     "output_type": "stream",
     "text": [
      "\r",
      "                                                                                \r"
     ]
    }
   ],
   "source": [
    "%%time\n",
    "#running k-means clustering alogrithm\n",
    "from pyspark.ml.clustering import KMeans\n",
    "from pyspark.ml.evaluation import ClusteringEvaluator\n",
    "import numpy as np\n",
    "\n",
    "cost = np.zeros(10)\n",
    "\n",
    "evaluator = ClusteringEvaluator(predictionCol='prediction', featuresCol='standardized',metricName='silhouette', distanceMeasure='squaredEuclidean')\n",
    "\n",
    "for i in range(2,10):\n",
    "    KMeans_algo=KMeans(featuresCol='standardized', k=i)\n",
    "    KMeans_fit=KMeans_algo.fit(data_scale_output_sub)\n",
    "    output=KMeans_fit.transform(data_scale_output_sub)\n",
    "    cost[i] = KMeans_fit.summary.trainingCost"
   ]
  },
  {
   "cell_type": "code",
   "execution_count": 58,
   "id": "5c6cc5e7",
   "metadata": {},
   "outputs": [
    {
     "data": {
      "text/plain": [
       "array([  0.        ,   0.        , 456.00488601, 269.21969166,\n",
       "       206.1103414 , 177.99415799, 147.5151638 , 118.57886627,\n",
       "       104.52147835,  84.42276338])"
      ]
     },
     "execution_count": 58,
     "metadata": {},
     "output_type": "execute_result"
    }
   ],
   "source": [
    "cost"
   ]
  },
  {
   "cell_type": "code",
   "execution_count": 59,
   "id": "ad60efd6",
   "metadata": {},
   "outputs": [
    {
     "data": {
      "image/png": "[encoded data removed]",
      "text/plain": [
       "<Figure size 640x480 with 1 Axes>"
      ]
     },
     "metadata": {},
     "output_type": "display_data"
    }
   ],
   "source": [
    "import pandas as pd\n",
    "import pylab as pl\n",
    "df_cost = pd.DataFrame(cost[2:])\n",
    "df_cost.columns = [\"cost\"]\n",
    "new_col = range(2,10)\n",
    "df_cost.insert(0, 'cluster', new_col)\n",
    "pl.plot(df_cost.cluster, df_cost.cost)\n",
    "pl.xlabel('Number of Clusters')\n",
    "pl.ylabel('Score')\n",
    "pl.title('Elbow Curve')\n",
    "pl.show()"
   ]
  },
  {
   "cell_type": "code",
   "execution_count": 61,
   "id": "11bd13b2",
   "metadata": {},
   "outputs": [
    {
     "name": "stderr",
     "output_type": "stream",
     "text": [
      "                                                                                \r"
     ]
    }
   ],
   "source": [
    "#final fitting k-means\n",
    "KMeans_algo=KMeans(featuresCol='standardized', k=4)\n",
    "KMeans_fit=KMeans_algo.fit(data_scale_output_sub)"
   ]
  },
  {
   "cell_type": "code",
   "execution_count": 63,
   "id": "2ad2e9a1",
   "metadata": {},
   "outputs": [
    {
     "name": "stderr",
     "output_type": "stream",
     "text": [
      "[Stage 1382:================================================>   (186 + 1) / 200]\r"
     ]
    },
    {
     "name": "stdout",
     "output_type": "stream",
     "text": [
      "+----------+---------+------------------+----------+-------------------------+----------------------------------------+----------+\n",
      "|recency   |frequency|monetary_value    |CustomerID|features                 |standardized                            |prediction|\n",
      "+----------+---------+------------------+----------+-------------------------+----------------------------------------+----------+\n",
      "|-134093880|6        |891.4000000000001 |12394     |[6.0,891.4000000000001]  |[0.17795847439657758,0.6563171694143287]|0         |\n",
      "|184222200 |91       |871.5399999999998 |12847     |[91.0,871.5399999999998] |[2.6990368616814266,0.641694711500296]  |1         |\n",
      "|199866660 |33       |464.32000000000005|13192     |[33.0,464.32000000000005]|[0.9787716091811768,0.3418680593476118] |3         |\n",
      "|581230260 |8        |428.40000000000003|13282     |[8.0,428.40000000000003] |[0.23727796586210345,0.315420995486985] |0         |\n",
      "|499763520 |20       |118.24000000000001|13610     |[20.0,118.24000000000001]|[0.5931949146552586,0.08705737279734152]|3         |\n",
      "+----------+---------+------------------+----------+-------------------------+----------------------------------------+----------+\n",
      "only showing top 5 rows\n",
      "\n"
     ]
    },
    {
     "name": "stderr",
     "output_type": "stream",
     "text": [
      "\r",
      "                                                                                \r"
     ]
    }
   ],
   "source": [
    "#predictions\n",
    "preds=KMeans_fit.transform(data_scale_output_sub)\n",
    "preds.show(5,0)"
   ]
  },
  {
   "cell_type": "code",
   "execution_count": 64,
   "id": "5189bb9b",
   "metadata": {},
   "outputs": [
    {
     "name": "stderr",
     "output_type": "stream",
     "text": [
      "                                                                                \r"
     ]
    },
    {
     "data": {
      "image/png": "[encoded data removed]",
      "text/plain": [
       "<Figure size 640x480 with 1 Axes>"
      ]
     },
     "metadata": {},
     "output_type": "display_data"
    },
    {
     "data": {
      "image/png": "[encoded data removed]",
      "text/plain": [
       "<Figure size 640x480 with 1 Axes>"
      ]
     },
     "metadata": {},
     "output_type": "display_data"
    },
    {
     "data": {
      "image/png": "[encoded data removed]",
      "text/plain": [
       "<Figure size 640x480 with 1 Axes>"
      ]
     },
     "metadata": {},
     "output_type": "display_data"
    }
   ],
   "source": [
    "#cluster analysis\n",
    "import matplotlib.pyplot as plt\n",
    "import seaborn as sns\n",
    "\n",
    "df_viz = preds.select('recency','frequency','monetary_value','prediction')\n",
    "df_viz = df_viz.toPandas()\n",
    "avg_df = df_viz.groupby(['prediction'], as_index=False).mean()\n",
    "\n",
    "list1 = ['recency','frequency','monetary_value']\n",
    "\n",
    "for i in list1:\n",
    "    sns.barplot(x='prediction',y=str(i),data=avg_df)\n",
    "    plt.show()"
   ]
  },
  {
   "cell_type": "code",
   "execution_count": null,
   "id": "3bf7b6b4",
   "metadata": {},
   "outputs": [],
   "source": []
  }
 ],
 "metadata": {
  "kernelspec": {
   "display_name": "Python 3 (ipykernel)",
   "language": "python",
   "name": "python3"
  },
  "language_info": {
   "codemirror_mode": {
    "name": "ipython",
    "version": 3
   },
   "file_extension": ".py",
   "mimetype": "text/x-python",
   "name": "python",
   "nbconvert_exporter": "python",
   "pygments_lexer": "ipython3",
   "version": "3.8.13"
  }
 },
 "nbformat": 4,
 "nbformat_minor": 5
}
