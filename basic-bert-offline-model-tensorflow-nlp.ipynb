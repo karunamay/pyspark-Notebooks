{
 "cells": [
  {
   "cell_type": "code",
   "execution_count": 2,
   "id": "3056ecc0",
   "metadata": {
    "_cell_guid": "b1076dfc-b9ad-4769-8c92-a6c4dae69d19",
    "_kg_hide-input": false,
    "_kg_hide-output": true,
    "_uuid": "8f2839f25d086af736a60e9eeb907d3b93b6e0e5",
    "execution": {
     "iopub.execute_input": "2022-10-02T17:43:10.225349Z",
     "iopub.status.busy": "2022-10-02T17:43:10.224572Z",
     "iopub.status.idle": "2022-10-02T17:43:10.349785Z",
     "shell.execute_reply": "2022-10-02T17:43:10.348698Z"
    },
    "jupyter": {
     "outputs_hidden": true
    },
    "papermill": {
     "duration": 0.138847,
     "end_time": "2022-10-02T17:43:10.354455",
     "exception": false,
     "start_time": "2022-10-02T17:43:10.215608",
     "status": "completed"
    },
    "tags": []
   },
   "outputs": [],
   "source": [
    "# This Python 3 environment comes with many helpful analytics libraries installed\n",
    "# It is defined by the kaggle/python Docker image: https://github.com/kaggle/docker-python\n",
    "# For example, here's several helpful packages to load\n",
    "\n",
    "import numpy as np # linear algebra\n",
    "import pandas as pd # data processing, CSV file I/O (e.g. pd.read_csv)\n",
    "\n",
    "# Input data files are available in the read-only \"../input/\" directory\n",
    "# For example, running this (by clicking run or pressing Shift+Enter) will list all files under the input directory\n",
    "\n",
    "import os\n",
    "for dirname, _, filenames in os.walk('/kaggle/input'):\n",
    "    for filename in filenames:\n",
    "        print(os.path.join(dirname, filename))\n",
    "\n",
    "# You can write up to 20GB to the current directory (/kaggle/working/) that gets preserved as output when you create a version using \"Save & Run All\" \n",
    "# You can also write temporary files to /kaggle/temp/, but they won't be saved outside of the current session"
   ]
  },
  {
   "cell_type": "markdown",
   "id": "2f478509",
   "metadata": {
    "papermill": {
     "duration": 0.006084,
     "end_time": "2022-10-02T17:43:10.368072",
     "exception": false,
     "start_time": "2022-10-02T17:43:10.361988",
     "status": "completed"
    },
    "tags": []
   },
   "source": [
    "> PS : Still new in NLP so I really appreciate any advice regarding the structure of the notebook.\n",
    "\n",
    "<div style=\"color:white;display:fill;\n",
    "            background-color:#00bbe0;font-size:150%;\n",
    "            font-family:Nexa;letter-spacing:0.5px\">\n",
    "    <p style=\"padding: 4px;color:white;\"><b>Table of Contents</b></p>\n",
    "</div>\n",
    "\n",
    "<a id=\"toc\"></a>\n",
    "\n",
    "- [1.1 Importing Libraries and Data](#1)\n",
    "\n",
    "        \n",
    "- [2.1 EDA](#2)\n",
    "\n",
    "\n",
    "- [3.1 Text Preprocessing](#3)\n",
    "\n",
    "\n",
    "- [4.1 Model Creatiion and Training](#4)\n",
    "    - 4.2 Splitting Train and Test datasets\n",
    "    - 4.3 Importing transformers\n",
    "    - 4.4 Bert Tokenizer creation\n",
    "    - 4.5 Datasets creation for train and test using tensorflow and tokenizer\n",
    "    - 4.6 Bert Model Creation\n",
    "    - 4.7 Training\n",
    "\n",
    "\n",
    "- [5.1 Prediction and Submission](#5)\n",
    "\n"
   ]
  },
  {
   "cell_type": "markdown",
   "id": "0c2e51e0",
   "metadata": {
    "execution": {
     "iopub.execute_input": "2022-10-02T16:59:13.118448Z",
     "iopub.status.busy": "2022-10-02T16:59:13.117861Z",
     "iopub.status.idle": "2022-10-02T16:59:13.134112Z",
     "shell.execute_reply": "2022-10-02T16:59:13.132693Z",
     "shell.execute_reply.started": "2022-10-02T16:59:13.118335Z"
    },
    "papermill": {
     "duration": 0.005979,
     "end_time": "2022-10-02T17:43:10.380533",
     "exception": false,
     "start_time": "2022-10-02T17:43:10.374554",
     "status": "completed"
    },
    "tags": []
   },
   "source": [
    "<a id=\"1\"></a>\n",
    "\n",
    "<div style=\"color:white;display:fill;\n",
    "            background-color:#00bbe0;font-size:150%;\n",
    "            font-family:Nexa;letter-spacing:0.5px\">\n",
    "    <p style=\"padding: 4px;color:white;\"><b>1.1 Importing Libraries and Data</b></p>\n",
    "</div>\n",
    "\n",
    "* importing bert offline model from huggingface-bert-variants kaggle dataset"
   ]
  },
  {
   "cell_type": "code",
   "execution_count": 3,
   "id": "93931246",
   "metadata": {
    "execution": {
     "iopub.execute_input": "2022-10-02T17:43:10.394834Z",
     "iopub.status.busy": "2022-10-02T17:43:10.394004Z",
     "iopub.status.idle": "2022-10-02T17:43:11.534327Z",
     "shell.execute_reply": "2022-10-02T17:43:11.532509Z"
    },
    "papermill": {
     "duration": 1.151647,
     "end_time": "2022-10-02T17:43:11.538429",
     "exception": false,
     "start_time": "2022-10-02T17:43:10.386782",
     "status": "completed"
    },
    "tags": []
   },
   "outputs": [
    {
     "data": {
      "text/plain": [
       "(text_id        0\n",
       " full_text      0\n",
       " cohesion       0\n",
       " syntax         0\n",
       " vocabulary     0\n",
       " phraseology    0\n",
       " grammar        0\n",
       " conventions    0\n",
       " dtype: int64,\n",
       " (3911, 8))"
      ]
     },
     "execution_count": 3,
     "metadata": {},
     "output_type": "execute_result"
    }
   ],
   "source": [
    "import seaborn as sns\n",
    "import matplotlib.pyplot as plt\n",
    "sns.set(style='darkgrid', font_scale=1)\n",
    "path='/Users/kpathak/Library/CloudStorage/OneDrive-ManhattanAssociates/kpathak/ESSAY_COMP'\n",
    "\n",
    "train_df = pd.read_csv(path+'/train.csv.zip')\n",
    "test_df = pd.read_csv(path+'/test.csv')\n",
    "\n",
    "# Checking for null values\n",
    "train_df.isnull().sum() ,train_df.shape"
   ]
  },
  {
   "cell_type": "code",
   "execution_count": 24,
   "id": "54b443cb",
   "metadata": {},
   "outputs": [
    {
     "data": {
      "text/html": [
       "<div>\n",
       "<style scoped>\n",
       "    .dataframe tbody tr th:only-of-type {\n",
       "        vertical-align: middle;\n",
       "    }\n",
       "\n",
       "    .dataframe tbody tr th {\n",
       "        vertical-align: top;\n",
       "    }\n",
       "\n",
       "    .dataframe thead th {\n",
       "        text-align: right;\n",
       "    }\n",
       "</style>\n",
       "<table border=\"1\" class=\"dataframe\">\n",
       "  <thead>\n",
       "    <tr style=\"text-align: right;\">\n",
       "      <th></th>\n",
       "      <th>text_id</th>\n",
       "      <th>full_text</th>\n",
       "      <th>cohesion</th>\n",
       "      <th>syntax</th>\n",
       "      <th>vocabulary</th>\n",
       "      <th>phraseology</th>\n",
       "      <th>grammar</th>\n",
       "      <th>conventions</th>\n",
       "    </tr>\n",
       "  </thead>\n",
       "  <tbody>\n",
       "    <tr>\n",
       "      <th>0</th>\n",
       "      <td>0016926B079C</td>\n",
       "      <td>I think that students would benefit from learn...</td>\n",
       "      <td>3.5</td>\n",
       "      <td>3.5</td>\n",
       "      <td>3.0</td>\n",
       "      <td>3.0</td>\n",
       "      <td>4.0</td>\n",
       "      <td>3.0</td>\n",
       "    </tr>\n",
       "    <tr>\n",
       "      <th>1</th>\n",
       "      <td>0022683E9EA5</td>\n",
       "      <td>When a problem is a change you have to let it ...</td>\n",
       "      <td>2.5</td>\n",
       "      <td>2.5</td>\n",
       "      <td>3.0</td>\n",
       "      <td>2.0</td>\n",
       "      <td>2.0</td>\n",
       "      <td>2.5</td>\n",
       "    </tr>\n",
       "    <tr>\n",
       "      <th>2</th>\n",
       "      <td>00299B378633</td>\n",
       "      <td>Dear, Principal\\n\\nIf u change the school poli...</td>\n",
       "      <td>3.0</td>\n",
       "      <td>3.5</td>\n",
       "      <td>3.0</td>\n",
       "      <td>3.0</td>\n",
       "      <td>3.0</td>\n",
       "      <td>2.5</td>\n",
       "    </tr>\n",
       "    <tr>\n",
       "      <th>3</th>\n",
       "      <td>003885A45F42</td>\n",
       "      <td>The best time in life is when you become yours...</td>\n",
       "      <td>4.5</td>\n",
       "      <td>4.5</td>\n",
       "      <td>4.5</td>\n",
       "      <td>4.5</td>\n",
       "      <td>4.0</td>\n",
       "      <td>5.0</td>\n",
       "    </tr>\n",
       "    <tr>\n",
       "      <th>4</th>\n",
       "      <td>0049B1DF5CCC</td>\n",
       "      <td>Small act of kindness can impact in other peop...</td>\n",
       "      <td>2.5</td>\n",
       "      <td>3.0</td>\n",
       "      <td>3.0</td>\n",
       "      <td>3.0</td>\n",
       "      <td>2.5</td>\n",
       "      <td>2.5</td>\n",
       "    </tr>\n",
       "  </tbody>\n",
       "</table>\n",
       "</div>"
      ],
      "text/plain": [
       "        text_id                                          full_text  cohesion  \\\n",
       "0  0016926B079C  I think that students would benefit from learn...       3.5   \n",
       "1  0022683E9EA5  When a problem is a change you have to let it ...       2.5   \n",
       "2  00299B378633  Dear, Principal\\n\\nIf u change the school poli...       3.0   \n",
       "3  003885A45F42  The best time in life is when you become yours...       4.5   \n",
       "4  0049B1DF5CCC  Small act of kindness can impact in other peop...       2.5   \n",
       "\n",
       "   syntax  vocabulary  phraseology  grammar  conventions  \n",
       "0     3.5         3.0          3.0      4.0          3.0  \n",
       "1     2.5         3.0          2.0      2.0          2.5  \n",
       "2     3.5         3.0          3.0      3.0          2.5  \n",
       "3     4.5         4.5          4.5      4.0          5.0  \n",
       "4     3.0         3.0          3.0      2.5          2.5  "
      ]
     },
     "execution_count": 24,
     "metadata": {},
     "output_type": "execute_result"
    }
   ],
   "source": [
    "train_df.head()"
   ]
  },
  {
   "cell_type": "code",
   "execution_count": 4,
   "id": "d93c277e",
   "metadata": {
    "execution": {
     "iopub.execute_input": "2022-10-02T17:43:11.564860Z",
     "iopub.status.busy": "2022-10-02T17:43:11.564469Z",
     "iopub.status.idle": "2022-10-02T17:43:11.570727Z",
     "shell.execute_reply": "2022-10-02T17:43:11.569419Z"
    },
    "papermill": {
     "duration": 0.021478,
     "end_time": "2022-10-02T17:43:11.573741",
     "exception": false,
     "start_time": "2022-10-02T17:43:11.552263",
     "status": "completed"
    },
    "tags": []
   },
   "outputs": [],
   "source": [
    "bert_path = path+'/uncased_L-12_H-768_A-12'"
   ]
  },
  {
   "cell_type": "markdown",
   "id": "bb98b509",
   "metadata": {
    "papermill": {
     "duration": 0.009806,
     "end_time": "2022-10-02T17:43:11.594544",
     "exception": false,
     "start_time": "2022-10-02T17:43:11.584738",
     "status": "completed"
    },
    "tags": []
   },
   "source": [
    "<a id=\"2\"></a>\n",
    "\n",
    "<div style=\"color:white;display:fill;\n",
    "            background-color:#00bbe0;font-size:150%;\n",
    "            font-family:Nexa;letter-spacing:0.5px\">\n",
    "    <p style=\"padding: 4px;color:white;\"><b>2.1 EDA</b></p>\n",
    "</div>\n",
    "\n"
   ]
  },
  {
   "cell_type": "code",
   "execution_count": 5,
   "id": "027e9472",
   "metadata": {
    "execution": {
     "iopub.execute_input": "2022-10-02T17:43:11.613366Z",
     "iopub.status.busy": "2022-10-02T17:43:11.612985Z",
     "iopub.status.idle": "2022-10-02T17:43:13.253946Z",
     "shell.execute_reply": "2022-10-02T17:43:13.252622Z"
    },
    "papermill": {
     "duration": 1.655339,
     "end_time": "2022-10-02T17:43:13.257654",
     "exception": false,
     "start_time": "2022-10-02T17:43:11.602315",
     "status": "completed"
    },
    "tags": []
   },
   "outputs": [
    {
     "data": {
      "image/png": "[encoded data removed]",
      "text/plain": [
       "<Figure size 1500x600 with 6 Axes>"
      ]
     },
     "metadata": {},
     "output_type": "display_data"
    }
   ],
   "source": [
    "targets = ['cohesion', 'syntax', 'vocabulary', 'phraseology', 'grammar', 'conventions']\n",
    "\n",
    "fig, axes = plt.subplots(2, len(targets)//2, figsize=(15,6))\n",
    "\n",
    "for i, target in enumerate(targets):\n",
    "    ax = axes.flat[i]\n",
    "    sns.histplot(x=target, data=train_df, linewidth=1.25, alpha=1, ax=ax, zorder=2)\n",
    "    ax.set_title(target)\n",
    "    ax.set(xlabel=None, ylabel=None)\n",
    "    \n",
    "fig.suptitle('Output Variables')\n",
    "plt.tight_layout()\n",
    "plt.show()\n"
   ]
  },
  {
   "cell_type": "code",
   "execution_count": 6,
   "id": "6a4a3cff",
   "metadata": {
    "execution": {
     "iopub.execute_input": "2022-10-02T17:43:13.283373Z",
     "iopub.status.busy": "2022-10-02T17:43:13.282821Z",
     "iopub.status.idle": "2022-10-02T17:43:13.822211Z",
     "shell.execute_reply": "2022-10-02T17:43:13.821234Z"
    },
    "papermill": {
     "duration": 0.554049,
     "end_time": "2022-10-02T17:43:13.824248",
     "exception": false,
     "start_time": "2022-10-02T17:43:13.270199",
     "status": "completed"
    },
    "tags": []
   },
   "outputs": [
    {
     "data": {
      "image/png": "[encoded data removed]",
      "text/plain": [
       "<Figure size 1100x1100 with 2 Axes>"
      ]
     },
     "metadata": {},
     "output_type": "display_data"
    },
    {
     "data": {
      "text/plain": [
       "Index(['syntax', 'phraseology', 'grammar', 'conventions', 'vocabulary'], dtype='object')"
      ]
     },
     "execution_count": 6,
     "metadata": {},
     "output_type": "execute_result"
    }
   ],
   "source": [
    "k = len(train_df.columns) #number of variables for heatmap\n",
    "f,ax = plt.subplots(figsize=(11, 11))\n",
    "cols = train_df.corr().abs().nlargest(k, 'syntax')['syntax'].index\n",
    "cm = np.corrcoef(train_df[cols].values.T)\n",
    "sns.set(font_scale=1.25)\n",
    "hm = sns.heatmap(cm, cbar=True, annot=True, square=True, fmt='.2f', annot_kws={'size': 10}, yticklabels=cols.values, xticklabels=cols.values)\n",
    "plt.show()\n",
    "cols = cols.drop('cohesion')\n",
    "cols"
   ]
  },
  {
   "cell_type": "markdown",
   "id": "a993d100",
   "metadata": {
    "papermill": {
     "duration": 0.007241,
     "end_time": "2022-10-02T17:43:13.839302",
     "exception": false,
     "start_time": "2022-10-02T17:43:13.832061",
     "status": "completed"
    },
    "tags": []
   },
   "source": [
    "<a id=\"3\"></a>\n",
    "\n",
    "<div style=\"color:white;display:fill;\n",
    "            background-color:#00bbe0;font-size:150%;\n",
    "            font-family:Nexa;letter-spacing:0.5px\">\n",
    "    <p style=\"padding: 4px;color:white;\"><b>3.1 Text Preprocessing</b></p>\n",
    "</div>"
   ]
  },
  {
   "cell_type": "code",
   "execution_count": 7,
   "id": "7dc433ff",
   "metadata": {
    "execution": {
     "iopub.execute_input": "2022-10-02T17:43:13.855362Z",
     "iopub.status.busy": "2022-10-02T17:43:13.855056Z",
     "iopub.status.idle": "2022-10-02T17:43:13.864756Z",
     "shell.execute_reply": "2022-10-02T17:43:13.863508Z"
    },
    "papermill": {
     "duration": 0.020343,
     "end_time": "2022-10-02T17:43:13.866953",
     "exception": false,
     "start_time": "2022-10-02T17:43:13.846610",
     "status": "completed"
    },
    "tags": []
   },
   "outputs": [
    {
     "name": "stdout",
     "output_type": "stream",
     "text": [
      "all_data size is : (3914, 7)\n"
     ]
    }
   ],
   "source": [
    "# Merging Train and Test Data\n",
    "ntrain = train_df.shape[0]\n",
    "ntest = test_df.shape[0]\n",
    "all_data = pd.concat((train_df, test_df)).reset_index(drop=True)\n",
    "all_data.drop(['text_id'], axis=1, inplace=True)\n",
    "print(\"all_data size is : {}\".format(all_data.shape))"
   ]
  },
  {
   "cell_type": "code",
   "execution_count": 12,
   "id": "5265276f",
   "metadata": {
    "execution": {
     "iopub.execute_input": "2022-10-02T17:43:13.884476Z",
     "iopub.status.busy": "2022-10-02T17:43:13.882932Z",
     "iopub.status.idle": "2022-10-02T17:43:14.557617Z",
     "shell.execute_reply": "2022-10-02T17:43:14.556655Z"
    },
    "papermill": {
     "duration": 0.685228,
     "end_time": "2022-10-02T17:43:14.559952",
     "exception": false,
     "start_time": "2022-10-02T17:43:13.874724",
     "status": "completed"
    },
    "tags": []
   },
   "outputs": [],
   "source": [
    "import string\n",
    "import nltk\n",
    "from nltk.corpus import stopwords\n",
    "PUNCT_TO_REMOVE = string.punctuation\n",
    "STOPWORDS = set(stopwords.words('english'))\n",
    "from nltk.stem import PorterStemmer\n",
    "from nltk.stem import WordNetLemmatizer\n",
    "import re\n",
    "\n",
    "# Create an instance of a PorterStemmer object\n",
    "lemmatizer = WordNetLemmatizer()\n",
    "\n",
    "def preprocess(text) : \n",
    "    #Using cased model so not lowering \n",
    "    text = text.lower()\n",
    "    text = re.sub(r'https?://\\S+|www\\.\\S+','', text)\n",
    "    text = re.sub(r'@[0-9a-zA-Z]*\\W+',' ' , text)\n",
    "    #text = re.sub(r'\\.','[SEP]' , text)\n",
    "    \n",
    "    #text = re.sub(r'\\W+', ' ', text)\n",
    "    text = re.sub(r'\\d+', ' ', text)\n",
    "    text = re.sub(r'\\#', ' ', text)\n",
    "    text = re.sub(r'\\'', ' ', text)\n",
    "        \n",
    "    #text = text.translate(str.maketrans('', '', PUNCT_TO_REMOVE))\n",
    "    #text = [word for word in str(text).split() if word not in STOPWORDS]\n",
    "\n",
    "    # For each token of each text, we generated its stem \n",
    "    #text = [lemmatizer.lemmatize(token) for token in text]\n",
    "    #text = ' '.join(text)\n",
    "    list_text = text.split()\n",
    "    text = ' '.join(list_text[:512])\n",
    "    return text"
   ]
  },
  {
   "cell_type": "code",
   "execution_count": 13,
   "id": "64f86ef2",
   "metadata": {
    "execution": {
     "iopub.execute_input": "2022-10-02T17:43:14.576479Z",
     "iopub.status.busy": "2022-10-02T17:43:14.576170Z",
     "iopub.status.idle": "2022-10-02T17:43:14.582470Z",
     "shell.execute_reply": "2022-10-02T17:43:14.581316Z"
    },
    "papermill": {
     "duration": 0.016738,
     "end_time": "2022-10-02T17:43:14.584502",
     "exception": false,
     "start_time": "2022-10-02T17:43:14.567764",
     "status": "completed"
    },
    "tags": []
   },
   "outputs": [
    {
     "name": "stdout",
     "output_type": "stream",
     "text": [
      "our fffff deeds are the . reason of this earthquake m\n"
     ]
    }
   ],
   "source": [
    "test = 'Our \\'fffff\\'Deeds are the . Reason of @insta this #earthquake M'\n",
    "print(preprocess(test))"
   ]
  },
  {
   "cell_type": "code",
   "execution_count": 14,
   "id": "c10f1ea0",
   "metadata": {
    "execution": {
     "iopub.execute_input": "2022-10-02T17:43:14.600635Z",
     "iopub.status.busy": "2022-10-02T17:43:14.600375Z",
     "iopub.status.idle": "2022-10-02T17:43:14.962097Z",
     "shell.execute_reply": "2022-10-02T17:43:14.961174Z"
    },
    "papermill": {
     "duration": 0.372222,
     "end_time": "2022-10-02T17:43:14.964262",
     "exception": false,
     "start_time": "2022-10-02T17:43:14.592040",
     "status": "completed"
    },
    "tags": []
   },
   "outputs": [],
   "source": [
    "all_data['full_text'] = all_data['full_text'].apply(lambda text : preprocess(text))"
   ]
  },
  {
   "cell_type": "markdown",
   "id": "d015cd0c",
   "metadata": {
    "papermill": {
     "duration": 0.008026,
     "end_time": "2022-10-02T17:43:14.982098",
     "exception": false,
     "start_time": "2022-10-02T17:43:14.974072",
     "status": "completed"
    },
    "tags": []
   },
   "source": [
    "<a id=\"4\"></a>\n",
    "\n",
    "<div style=\"color:white;display:fill;\n",
    "            background-color:#00bbe0;font-size:150%;\n",
    "            font-family:Nexa;letter-spacing:0.5px\">\n",
    "    <p style=\"padding: 4px;color:white;\"><b>4.1 Model Creation and Training</b></p>\n",
    "</div>\n",
    "\n",
    "#### 4.2 Splitting Train and Test datasets"
   ]
  },
  {
   "cell_type": "code",
   "execution_count": 15,
   "id": "9d807663",
   "metadata": {
    "execution": {
     "iopub.execute_input": "2022-10-02T17:43:14.998705Z",
     "iopub.status.busy": "2022-10-02T17:43:14.998385Z",
     "iopub.status.idle": "2022-10-02T17:43:15.005732Z",
     "shell.execute_reply": "2022-10-02T17:43:15.004751Z"
    },
    "papermill": {
     "duration": 0.018095,
     "end_time": "2022-10-02T17:43:15.007933",
     "exception": false,
     "start_time": "2022-10-02T17:43:14.989838",
     "status": "completed"
    },
    "tags": []
   },
   "outputs": [
    {
     "data": {
      "text/plain": [
       "((3911, 7), (3, 7))"
      ]
     },
     "execution_count": 15,
     "metadata": {},
     "output_type": "execute_result"
    }
   ],
   "source": [
    "train_data = all_data[:ntrain].copy()\n",
    "test_data = all_data[ntrain:]\n",
    "\n",
    "train_data.shape , test_data.shape"
   ]
  },
  {
   "cell_type": "code",
   "execution_count": 16,
   "id": "dac9f515",
   "metadata": {
    "execution": {
     "iopub.execute_input": "2022-10-02T17:43:15.024390Z",
     "iopub.status.busy": "2022-10-02T17:43:15.024093Z",
     "iopub.status.idle": "2022-10-02T17:43:15.095224Z",
     "shell.execute_reply": "2022-10-02T17:43:15.094050Z"
    },
    "papermill": {
     "duration": 0.081808,
     "end_time": "2022-10-02T17:43:15.097448",
     "exception": false,
     "start_time": "2022-10-02T17:43:15.015640",
     "status": "completed"
    },
    "tags": []
   },
   "outputs": [
    {
     "name": "stdout",
     "output_type": "stream",
     "text": [
      "512\n"
     ]
    }
   ],
   "source": [
    "BATCH_SIZE = 6\n",
    "\n",
    "MAX_LEN = max(len(x.split()) for x in all_data['full_text'])\n",
    "print(MAX_LEN)"
   ]
  },
  {
   "cell_type": "markdown",
   "id": "f8921738",
   "metadata": {
    "papermill": {
     "duration": 0.007691,
     "end_time": "2022-10-02T17:43:15.113305",
     "exception": false,
     "start_time": "2022-10-02T17:43:15.105614",
     "status": "completed"
    },
    "tags": []
   },
   "source": [
    "#### 4.3 Importing transformers"
   ]
  },
  {
   "cell_type": "code",
   "execution_count": 19,
   "id": "024779a2",
   "metadata": {
    "execution": {
     "iopub.execute_input": "2022-10-02T17:43:15.129688Z",
     "iopub.status.busy": "2022-10-02T17:43:15.129426Z",
     "iopub.status.idle": "2022-10-02T17:43:27.101608Z",
     "shell.execute_reply": "2022-10-02T17:43:27.100606Z"
    },
    "papermill": {
     "duration": 11.983616,
     "end_time": "2022-10-02T17:43:27.104590",
     "exception": false,
     "start_time": "2022-10-02T17:43:15.120974",
     "status": "completed"
    },
    "tags": []
   },
   "outputs": [],
   "source": [
    "import tensorflow as tf\n",
    "from transformers import BertTokenizer , TFBertModel \n",
    "\n",
    "AUTO = tf.data.experimental.AUTOTUNE"
   ]
  },
  {
   "cell_type": "markdown",
   "id": "5747872c",
   "metadata": {
    "papermill": {
     "duration": 0.011506,
     "end_time": "2022-10-02T17:43:27.128543",
     "exception": false,
     "start_time": "2022-10-02T17:43:27.117037",
     "status": "completed"
    },
    "tags": []
   },
   "source": [
    "#### 4.3 Bert Tokenizer creation"
   ]
  },
  {
   "cell_type": "code",
   "execution_count": 20,
   "id": "e6a9a87a",
   "metadata": {
    "execution": {
     "iopub.execute_input": "2022-10-02T17:43:27.153798Z",
     "iopub.status.busy": "2022-10-02T17:43:27.152989Z",
     "iopub.status.idle": "2022-10-02T17:43:27.246590Z",
     "shell.execute_reply": "2022-10-02T17:43:27.243437Z"
    },
    "papermill": {
     "duration": 0.110146,
     "end_time": "2022-10-02T17:43:27.250138",
     "exception": false,
     "start_time": "2022-10-02T17:43:27.139992",
     "status": "completed"
    },
    "tags": []
   },
   "outputs": [
    {
     "name": "stderr",
     "output_type": "stream",
     "text": [
      "The tokenizer class you load from this checkpoint is not the same type as the class this function is called from. It may result in unexpected tokenization. \n",
      "The tokenizer class you load from this checkpoint is 'RagTokenizer'. \n",
      "The class this function is called from is 'BertTokenizer'.\n"
     ]
    }
   ],
   "source": [
    "tokenizer = BertTokenizer.from_pretrained(bert_path)"
   ]
  },
  {
   "cell_type": "markdown",
   "id": "e4eece19",
   "metadata": {
    "papermill": {
     "duration": 0.012966,
     "end_time": "2022-10-02T17:43:27.278847",
     "exception": false,
     "start_time": "2022-10-02T17:43:27.265881",
     "status": "completed"
    },
    "tags": []
   },
   "source": [
    "#### 4.4 Datasets creation for train and test using tensorflow and tokenizer"
   ]
  },
  {
   "cell_type": "code",
   "execution_count": 21,
   "id": "4f67dc9e",
   "metadata": {
    "execution": {
     "iopub.execute_input": "2022-10-02T17:43:27.305095Z",
     "iopub.status.busy": "2022-10-02T17:43:27.304704Z",
     "iopub.status.idle": "2022-10-02T17:43:27.310811Z",
     "shell.execute_reply": "2022-10-02T17:43:27.309954Z"
    },
    "papermill": {
     "duration": 0.021688,
     "end_time": "2022-10-02T17:43:27.313422",
     "exception": false,
     "start_time": "2022-10-02T17:43:27.291734",
     "status": "completed"
    },
    "tags": []
   },
   "outputs": [],
   "source": [
    "def encode(input_text):\n",
    "    inputs = tokenizer.batch_encode_plus(input_text,padding='max_length',max_length=MAX_LEN, truncation=True)\n",
    "    return inputs"
   ]
  },
  {
   "cell_type": "code",
   "execution_count": 23,
   "id": "b689f9ee",
   "metadata": {},
   "outputs": [],
   "source": [
    "train_input = encode(train_data['full_text'].values.tolist())['input_ids']\n",
    "# train_input"
   ]
  },
  {
   "cell_type": "code",
   "execution_count": 25,
   "id": "10cf33f8",
   "metadata": {
    "execution": {
     "iopub.execute_input": "2022-10-02T17:43:27.339541Z",
     "iopub.status.busy": "2022-10-02T17:43:27.339178Z",
     "iopub.status.idle": "2022-10-02T17:44:11.077329Z",
     "shell.execute_reply": "2022-10-02T17:44:11.076234Z"
    },
    "papermill": {
     "duration": 43.754028,
     "end_time": "2022-10-02T17:44:11.079882",
     "exception": false,
     "start_time": "2022-10-02T17:43:27.325854",
     "status": "completed"
    },
    "tags": []
   },
   "outputs": [
    {
     "name": "stderr",
     "output_type": "stream",
     "text": [
      "2022-10-04 17:22:30.712902: I tensorflow/core/platform/cpu_feature_guard.cc:193] This TensorFlow binary is optimized with oneAPI Deep Neural Network Library (oneDNN) to use the following CPU instructions in performance-critical operations:  AVX2 FMA\n",
      "To enable them in other operations, rebuild TensorFlow with the appropriate compiler flags.\n"
     ]
    }
   ],
   "source": [
    "\n",
    "train_data_ds = (\n",
    "    tf.data.Dataset\n",
    "    .from_tensor_slices((train_input,train_data.drop('full_text', axis = 1)))\n",
    "    .repeat()\n",
    "    .batch(BATCH_SIZE)\n",
    "    .prefetch(AUTO)\n",
    ")"
   ]
  },
  {
   "cell_type": "code",
   "execution_count": 26,
   "id": "6891dfa5",
   "metadata": {
    "execution": {
     "iopub.execute_input": "2022-10-02T17:44:11.099047Z",
     "iopub.status.busy": "2022-10-02T17:44:11.097355Z",
     "iopub.status.idle": "2022-10-02T17:44:11.151118Z",
     "shell.execute_reply": "2022-10-02T17:44:11.150234Z"
    },
    "papermill": {
     "duration": 0.064959,
     "end_time": "2022-10-02T17:44:11.153236",
     "exception": false,
     "start_time": "2022-10-02T17:44:11.088277",
     "status": "completed"
    },
    "tags": []
   },
   "outputs": [],
   "source": [
    "testing_input = encode(test_data.full_text.values.tolist())['input_ids']\n",
    "\n",
    "test_dataset = (\n",
    "    tf.data.Dataset\n",
    "    .from_tensor_slices(testing_input)\n",
    "    .batch(BATCH_SIZE)\n",
    ")"
   ]
  },
  {
   "cell_type": "markdown",
   "id": "770ae12a",
   "metadata": {
    "papermill": {
     "duration": 0.007686,
     "end_time": "2022-10-02T17:44:11.170399",
     "exception": false,
     "start_time": "2022-10-02T17:44:11.162713",
     "status": "completed"
    },
    "tags": []
   },
   "source": [
    "#### Helper functions"
   ]
  },
  {
   "cell_type": "code",
   "execution_count": 27,
   "id": "64598043",
   "metadata": {
    "execution": {
     "iopub.execute_input": "2022-10-02T17:44:11.188541Z",
     "iopub.status.busy": "2022-10-02T17:44:11.186960Z",
     "iopub.status.idle": "2022-10-02T17:44:11.192593Z",
     "shell.execute_reply": "2022-10-02T17:44:11.191712Z"
    },
    "papermill": {
     "duration": 0.016346,
     "end_time": "2022-10-02T17:44:11.194531",
     "exception": false,
     "start_time": "2022-10-02T17:44:11.178185",
     "status": "completed"
    },
    "tags": []
   },
   "outputs": [],
   "source": [
    "# Custom error function MCRMSE : column wise root mean squared eoor\n",
    "def MCRMSE(y_true, y_pred):\n",
    "    colwise_mse = tf.reduce_mean(tf.square(y_true - y_pred), axis=1)\n",
    "    return tf.reduce_mean(tf.sqrt(colwise_mse), axis=-1, keepdims=True)"
   ]
  },
  {
   "cell_type": "code",
   "execution_count": 36,
   "id": "04f42d76",
   "metadata": {
    "execution": {
     "iopub.execute_input": "2022-10-02T17:44:11.211204Z",
     "iopub.status.busy": "2022-10-02T17:44:11.210950Z",
     "iopub.status.idle": "2022-10-02T17:44:11.217057Z",
     "shell.execute_reply": "2022-10-02T17:44:11.216173Z"
    },
    "papermill": {
     "duration": 0.016675,
     "end_time": "2022-10-02T17:44:11.219037",
     "exception": false,
     "start_time": "2022-10-02T17:44:11.202362",
     "status": "completed"
    },
    "tags": []
   },
   "outputs": [],
   "source": [
    "def create_model():\n",
    "    bert_encoder = TFBertModel.from_pretrained('bert-base-uncased')\n",
    "    input_word_ids = tf.keras.Input(shape=(MAX_LEN,), dtype=tf.int32, name=\"input_word_ids\")\n",
    "\n",
    "    embedding = bert_encoder(input_word_ids)[0]\n",
    "    x = tf.keras.layers.GlobalAveragePooling1D()(embedding)\n",
    "    x = tf.keras.layers.LayerNormalization()(x)\n",
    "    #Output layer without activation function because regression task\n",
    "    output = tf.keras.layers.Dense(6,)(x)\n",
    "\n",
    "    model = tf.keras.models.Model(inputs=input_word_ids, outputs=output)\n",
    "    model.compile(optimizer=tf.keras.optimizers.Adam(1e-5), loss=MCRMSE\n",
    "                  , metrics=MCRMSE)\n",
    "\n",
    "    return model"
   ]
  },
  {
   "cell_type": "markdown",
   "id": "3e9eda2c",
   "metadata": {
    "papermill": {
     "duration": 0.007765,
     "end_time": "2022-10-02T17:44:11.234527",
     "exception": false,
     "start_time": "2022-10-02T17:44:11.226762",
     "status": "completed"
    },
    "tags": []
   },
   "source": [
    "#### 4.5 Bert Model creation"
   ]
  },
  {
   "cell_type": "code",
   "execution_count": 37,
   "id": "3dd5b6a9",
   "metadata": {
    "execution": {
     "iopub.execute_input": "2022-10-02T17:44:11.251219Z",
     "iopub.status.busy": "2022-10-02T17:44:11.250967Z",
     "iopub.status.idle": "2022-10-02T17:44:24.751879Z",
     "shell.execute_reply": "2022-10-02T17:44:24.750672Z"
    },
    "papermill": {
     "duration": 13.511797,
     "end_time": "2022-10-02T17:44:24.754182",
     "exception": false,
     "start_time": "2022-10-02T17:44:11.242385",
     "status": "completed"
    },
    "tags": []
   },
   "outputs": [
    {
     "data": {
      "application/vnd.jupyter.widget-view+json": {
       "model_id": "8518b528b6184d6791c7a8cc4c3b066d",
       "version_major": 2,
       "version_minor": 0
      },
      "text/plain": [
       "HBox(children=(IntProgress(value=0, description='Downloading', max=570, style=ProgressStyle(description_width=…"
      ]
     },
     "metadata": {},
     "output_type": "display_data"
    },
    {
     "name": "stdout",
     "output_type": "stream",
     "text": [
      "\n"
     ]
    },
    {
     "data": {
      "application/vnd.jupyter.widget-view+json": {
       "model_id": "13009ef3f12b49ab96cff0a15be77c53",
       "version_major": 2,
       "version_minor": 0
      },
      "text/plain": [
       "HBox(children=(IntProgress(value=0, description='Downloading', max=536063208, style=ProgressStyle(description_…"
      ]
     },
     "metadata": {},
     "output_type": "display_data"
    },
    {
     "name": "stdout",
     "output_type": "stream",
     "text": [
      "\n"
     ]
    },
    {
     "name": "stderr",
     "output_type": "stream",
     "text": [
      "Some layers from the model checkpoint at bert-base-uncased were not used when initializing TFBertModel: ['nsp___cls', 'mlm___cls']\n",
      "- This IS expected if you are initializing TFBertModel from the checkpoint of a model trained on another task or with another architecture (e.g. initializing a BertForSequenceClassification model from a BertForPreTraining model).\n",
      "- This IS NOT expected if you are initializing TFBertModel from the checkpoint of a model that you expect to be exactly identical (initializing a BertForSequenceClassification model from a BertForSequenceClassification model).\n",
      "All the layers of TFBertModel were initialized from the model checkpoint at bert-base-uncased.\n",
      "If your task is similar to the task the model of the checkpoint was trained on, you can already use TFBertModel for predictions without further training.\n"
     ]
    },
    {
     "name": "stdout",
     "output_type": "stream",
     "text": [
      "Model: \"model\"\n",
      "_________________________________________________________________\n",
      " Layer (type)                Output Shape              Param #   \n",
      "=================================================================\n",
      " input_word_ids (InputLayer)  [(None, 512)]            0         \n",
      "                                                                 \n",
      " tf_bert_model (TFBertModel)  TFBaseModelOutputWithPoo  109482240\n",
      "                             lingAndCrossAttentions(l            \n",
      "                             ast_hidden_state=(None,             \n",
      "                             512, 768),                          \n",
      "                              pooler_output=(None, 76            \n",
      "                             8),                                 \n",
      "                              past_key_values=None, h            \n",
      "                             idden_states=None, atten            \n",
      "                             tions=None, cross_attent            \n",
      "                             ions=None)                          \n",
      "                                                                 \n",
      " global_average_pooling1d (G  (None, 768)              0         \n",
      " lobalAveragePooling1D)                                          \n",
      "                                                                 \n",
      " layer_normalization (LayerN  (None, 768)              1536      \n",
      " ormalization)                                                   \n",
      "                                                                 \n",
      " dense (Dense)               (None, 6)                 4614      \n",
      "                                                                 \n",
      "=================================================================\n",
      "Total params: 109,488,390\n",
      "Trainable params: 109,488,390\n",
      "Non-trainable params: 0\n",
      "_________________________________________________________________\n"
     ]
    }
   ],
   "source": [
    "model= create_model()\n",
    "model.summary()"
   ]
  },
  {
   "cell_type": "code",
   "execution_count": 38,
   "id": "c85a7def",
   "metadata": {
    "execution": {
     "iopub.execute_input": "2022-10-02T17:44:24.772714Z",
     "iopub.status.busy": "2022-10-02T17:44:24.772245Z",
     "iopub.status.idle": "2022-10-02T17:44:25.046635Z",
     "shell.execute_reply": "2022-10-02T17:44:25.045554Z"
    },
    "papermill": {
     "duration": 0.286553,
     "end_time": "2022-10-02T17:44:25.049255",
     "exception": false,
     "start_time": "2022-10-02T17:44:24.762702",
     "status": "completed"
    },
    "tags": []
   },
   "outputs": [
    {
     "data": {
      "text/plain": [
       "22742"
      ]
     },
     "execution_count": 38,
     "metadata": {},
     "output_type": "execute_result"
    }
   ],
   "source": [
    "import  gc\n",
    "gc.collect()"
   ]
  },
  {
   "cell_type": "code",
   "execution_count": 39,
   "id": "46cb3bc8",
   "metadata": {
    "execution": {
     "iopub.execute_input": "2022-10-02T17:44:25.067767Z",
     "iopub.status.busy": "2022-10-02T17:44:25.067470Z",
     "iopub.status.idle": "2022-10-02T17:44:25.073167Z",
     "shell.execute_reply": "2022-10-02T17:44:25.072262Z"
    },
    "papermill": {
     "duration": 0.017057,
     "end_time": "2022-10-02T17:44:25.075041",
     "exception": false,
     "start_time": "2022-10-02T17:44:25.057984",
     "status": "completed"
    },
    "tags": []
   },
   "outputs": [
    {
     "data": {
      "text/plain": [
       "6"
      ]
     },
     "execution_count": 39,
     "metadata": {},
     "output_type": "execute_result"
    }
   ],
   "source": [
    "BATCH_SIZE"
   ]
  },
  {
   "cell_type": "markdown",
   "id": "3419de5f",
   "metadata": {
    "papermill": {
     "duration": 0.008392,
     "end_time": "2022-10-02T17:44:25.091764",
     "exception": false,
     "start_time": "2022-10-02T17:44:25.083372",
     "status": "completed"
    },
    "tags": []
   },
   "source": [
    "#### 4.6 Training"
   ]
  },
  {
   "cell_type": "code",
   "execution_count": 40,
   "id": "6a609f39",
   "metadata": {
    "execution": {
     "iopub.execute_input": "2022-10-02T17:44:25.110311Z",
     "iopub.status.busy": "2022-10-02T17:44:25.109434Z",
     "iopub.status.idle": "2022-10-02T18:00:01.714155Z",
     "shell.execute_reply": "2022-10-02T18:00:01.713094Z"
    },
    "papermill": {
     "duration": 936.61666,
     "end_time": "2022-10-02T18:00:01.716750",
     "exception": false,
     "start_time": "2022-10-02T17:44:25.100090",
     "status": "completed"
    },
    "tags": []
   },
   "outputs": [
    {
     "name": "stdout",
     "output_type": "stream",
     "text": [
      "Epoch 1/3\n",
      "WARNING:tensorflow:Gradients do not exist for variables ['tf_bert_model/bert/pooler/dense/kernel:0', 'tf_bert_model/bert/pooler/dense/bias:0'] when minimizing the loss. If you're using `model.compile()`, did you forget to provide a `loss` argument?\n",
      "WARNING:tensorflow:Gradients do not exist for variables ['tf_bert_model/bert/pooler/dense/kernel:0', 'tf_bert_model/bert/pooler/dense/bias:0'] when minimizing the loss. If you're using `model.compile()`, did you forget to provide a `loss` argument?\n",
      "651/651 [==============================] - 19388s 30s/step - loss: 0.5241 - MCRMSE: 0.5241\n",
      "Epoch 2/3\n",
      "651/651 [==============================] - 49914s 77s/step - loss: 0.4594 - MCRMSE: 0.4594\n",
      "Epoch 3/3\n",
      "651/651 [==============================] - 27843s 43s/step - loss: 0.4328 - MCRMSE: 0.4328\n"
     ]
    }
   ],
   "source": [
    "from tensorflow.keras.callbacks import EarlyStopping\n",
    "\n",
    "callback = tf.keras.callbacks.EarlyStopping(monitor='MCRMSE', patience = 2 ,restore_best_weights=True)\n",
    "\n",
    "history = model.fit(\n",
    "                    train_data_ds, \n",
    "                    steps_per_epoch= train_data.shape[0]//BATCH_SIZE,\n",
    "                    batch_size = BATCH_SIZE,\n",
    "                    epochs= 3,\n",
    "                    verbose = 1,\n",
    "                    shuffle= True,\n",
    "                    callbacks=[callback],\n",
    "                       )"
   ]
  },
  {
   "cell_type": "markdown",
   "id": "34f3372c",
   "metadata": {
    "papermill": {
     "duration": 0.104281,
     "end_time": "2022-10-02T18:00:01.926306",
     "exception": false,
     "start_time": "2022-10-02T18:00:01.822025",
     "status": "completed"
    },
    "tags": []
   },
   "source": [
    "<a id=\"5\"></a>\n",
    "\n",
    "<div style=\"color:white;display:fill;\n",
    "            background-color:#00bbe0;font-size:150%;\n",
    "            font-family:Nexa;letter-spacing:0.5px\">\n",
    "    <p style=\"padding: 4px;color:white;\"><b>Prediction + Submission</b></p>\n",
    "</div>"
   ]
  },
  {
   "cell_type": "code",
   "execution_count": 42,
   "id": "1f7ab719",
   "metadata": {
    "execution": {
     "iopub.execute_input": "2022-10-02T18:00:02.136082Z",
     "iopub.status.busy": "2022-10-02T18:00:02.135729Z",
     "iopub.status.idle": "2022-10-02T18:00:04.659375Z",
     "shell.execute_reply": "2022-10-02T18:00:04.658316Z"
    },
    "papermill": {
     "duration": 2.632048,
     "end_time": "2022-10-02T18:00:04.662627",
     "exception": false,
     "start_time": "2022-10-02T18:00:02.030579",
     "status": "completed"
    },
    "tags": []
   },
   "outputs": [
    {
     "name": "stdout",
     "output_type": "stream",
     "text": [
      "1/1 [==============================] - 11s 11s/step\n"
     ]
    },
    {
     "data": {
      "text/html": [
       "<div>\n",
       "<style scoped>\n",
       "    .dataframe tbody tr th:only-of-type {\n",
       "        vertical-align: middle;\n",
       "    }\n",
       "\n",
       "    .dataframe tbody tr th {\n",
       "        vertical-align: top;\n",
       "    }\n",
       "\n",
       "    .dataframe thead th {\n",
       "        text-align: right;\n",
       "    }\n",
       "</style>\n",
       "<table border=\"1\" class=\"dataframe\">\n",
       "  <thead>\n",
       "    <tr style=\"text-align: right;\">\n",
       "      <th></th>\n",
       "      <th>cohesion</th>\n",
       "      <th>syntax</th>\n",
       "      <th>vocabulary</th>\n",
       "      <th>phraseology</th>\n",
       "      <th>grammar</th>\n",
       "      <th>conventions</th>\n",
       "    </tr>\n",
       "  </thead>\n",
       "  <tbody>\n",
       "    <tr>\n",
       "      <th>0</th>\n",
       "      <td>3.125286</td>\n",
       "      <td>2.872230</td>\n",
       "      <td>3.187831</td>\n",
       "      <td>3.126832</td>\n",
       "      <td>2.914896</td>\n",
       "      <td>2.907867</td>\n",
       "    </tr>\n",
       "    <tr>\n",
       "      <th>1</th>\n",
       "      <td>2.649934</td>\n",
       "      <td>2.493409</td>\n",
       "      <td>2.755910</td>\n",
       "      <td>2.298735</td>\n",
       "      <td>2.205299</td>\n",
       "      <td>2.798430</td>\n",
       "    </tr>\n",
       "    <tr>\n",
       "      <th>2</th>\n",
       "      <td>3.726249</td>\n",
       "      <td>3.612067</td>\n",
       "      <td>3.536789</td>\n",
       "      <td>3.471808</td>\n",
       "      <td>3.470615</td>\n",
       "      <td>3.840586</td>\n",
       "    </tr>\n",
       "  </tbody>\n",
       "</table>\n",
       "</div>"
      ],
      "text/plain": [
       "   cohesion    syntax  vocabulary  phraseology   grammar  conventions\n",
       "0  3.125286  2.872230    3.187831     3.126832  2.914896     2.907867\n",
       "1  2.649934  2.493409    2.755910     2.298735  2.205299     2.798430\n",
       "2  3.726249  3.612067    3.536789     3.471808  3.470615     3.840586"
      ]
     },
     "execution_count": 42,
     "metadata": {},
     "output_type": "execute_result"
    }
   ],
   "source": [
    "sub = pd.DataFrame({})\n",
    "sub[['cohesion','syntax','vocabulary','phraseology','grammar','conventions']] = model.predict(test_dataset)\n",
    "sub.to_csv('submission.csv',index=False)\n",
    "sub"
   ]
  },
  {
   "cell_type": "markdown",
   "id": "a9f21d16",
   "metadata": {
    "papermill": {
     "duration": 0.104138,
     "end_time": "2022-10-02T18:00:04.874271",
     "exception": false,
     "start_time": "2022-10-02T18:00:04.770133",
     "status": "completed"
    },
    "tags": []
   },
   "source": [
    "# "
   ]
  }
 ],
 "metadata": {
  "kernelspec": {
   "display_name": "Python 3 (ipykernel)",
   "language": "python",
   "name": "python3"
  },
  "language_info": {
   "codemirror_mode": {
    "name": "ipython",
    "version": 3
   },
   "file_extension": ".py",
   "mimetype": "text/x-python",
   "name": "python",
   "nbconvert_exporter": "python",
   "pygments_lexer": "ipython3",
   "version": "3.8.13"
  },
  "papermill": {
   "default_parameters": {},
   "duration": 1025.770487,
   "end_time": "2022-10-02T18:00:08.239646",
   "environment_variables": {},
   "exception": null,
   "input_path": "__notebook__.ipynb",
   "output_path": "__notebook__.ipynb",
   "parameters": {},
   "start_time": "2022-10-02T17:43:02.469159",
   "version": "2.3.4"
  }
 },
 "nbformat": 4,
 "nbformat_minor": 5
}
